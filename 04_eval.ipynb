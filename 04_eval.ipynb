{
  "cells": [
    {
      "cell_type": "code",
      "metadata": {
        "colab": {
          "base_uri": "https://localhost:8080/"
        },
        "id": "SQwsKmiR-K4f",
        "outputId": "157b54a4-7e67-4c02-f3fa-174a61fcad65"
      },
      "source": [
        "import numpy as np\n",
        "import pandas as pd\n",
        "import matplotlib.pyplot as plt\n",
        "\n",
        "from sklearn.model_selection import train_test_split, KFold\n",
        "from sklearn.feature_extraction import DictVectorizer\n",
        "from sklearn.linear_model import LogisticRegression\n",
        "from sklearn.metrics import roc_auc_score, precision_score, recall_score, f1_score\n",
        "\n",
        "!wget https://raw.githubusercontent.com/alexeygrigorev/datasets/master/course_lead_scoring.csv\n"
      ],
      "outputs": [
        {
          "output_type": "stream",
          "name": "stdout",
          "text": [
            "--2025-10-20 19:03:42--  https://raw.githubusercontent.com/alexeygrigorev/datasets/master/course_lead_scoring.csv\n",
            "Resolving raw.githubusercontent.com (raw.githubusercontent.com)... 185.199.109.133, 185.199.110.133, 185.199.108.133, ...\n",
            "Connecting to raw.githubusercontent.com (raw.githubusercontent.com)|185.199.109.133|:443... connected.\n",
            "HTTP request sent, awaiting response... 200 OK\n",
            "Length: 80876 (79K) [text/plain]\n",
            "Saving to: ‘course_lead_scoring.csv.2’\n",
            "\n",
            "\r          course_le   0%[                    ]       0  --.-KB/s               \rcourse_lead_scoring 100%[===================>]  78.98K  --.-KB/s    in 0.01s   \n",
            "\n",
            "2025-10-20 19:03:42 (5.87 MB/s) - ‘course_lead_scoring.csv.2’ saved [80876/80876]\n",
            "\n"
          ]
        }
      ],
      "execution_count": 27,
      "id": "SQwsKmiR-K4f"
    },
    {
      "cell_type": "code",
      "source": [
        "df = pd.read_csv('course_lead_scoring.csv')\n",
        "print(\"Shape:\", df.shape)\n",
        "print(\"Columns:\", list(df.columns))"
      ],
      "metadata": {
        "colab": {
          "base_uri": "https://localhost:8080/"
        },
        "id": "_EVsF1ia-VY7",
        "outputId": "67729a3e-0d7f-479c-b3c8-0aec53794d16"
      },
      "id": "_EVsF1ia-VY7",
      "execution_count": 28,
      "outputs": [
        {
          "output_type": "stream",
          "name": "stdout",
          "text": [
            "Shape: (1462, 9)\n",
            "Columns: ['lead_source', 'industry', 'number_of_courses_viewed', 'annual_income', 'employment_status', 'location', 'interaction_count', 'lead_score', 'converted']\n"
          ]
        }
      ]
    },
    {
      "cell_type": "code",
      "metadata": {
        "colab": {
          "base_uri": "https://localhost:8080/"
        },
        "id": "xuC2zR4N-K4g",
        "outputId": "c4b10d5a-dedc-4de8-e6e3-83d93862b520"
      },
      "source": [
        "# Ensure 'converted' target exists and is 0/1\n",
        "if \"converted\" not in df.columns:\n",
        "    # Try common alternatives\n",
        "    alt_targets = [c for c in df.columns if c.lower() in (\"converted\", \"conversion\", \"is_converted\", \"target\")]\n",
        "    if alt_targets:\n",
        "        df.rename(columns={alt_targets[0]: \"converted\"}, inplace=True)\n",
        "    else:\n",
        "        raise ValueError(\"Target column 'converted' not found in CSV.\")\n",
        "\n",
        "# Coerce to numeric 0/1\n",
        "if df[\"converted\"].dtype == object:\n",
        "    mapping = {\"yes\":1, \"y\":1, \"true\":1, \"t\":1, \"1\":1, 1:1,\n",
        "               \"no\":0, \"n\":0, \"false\":0, \"f\":0, \"0\":0, 0:0}\n",
        "    df[\"converted\"] = df[\"converted\"].map(lambda x: mapping.get(str(x).strip().lower(), np.nan))\n",
        "\n",
        "df[\"converted\"] = pd.to_numeric(df[\"converted\"], errors=\"coerce\")\n",
        "df = df[~df[\"converted\"].isna()].copy()\n",
        "df[\"converted\"] = df[\"converted\"].astype(int)\n",
        "\n",
        "print(\"Target value counts:\")\n",
        "print(df[\"converted\"].value_counts(normalize=True).round(3))"
      ],
      "outputs": [
        {
          "output_type": "stream",
          "name": "stdout",
          "text": [
            "Target value counts:\n",
            "converted\n",
            "1    0.619\n",
            "0    0.381\n",
            "Name: proportion, dtype: float64\n"
          ]
        }
      ],
      "execution_count": 29,
      "id": "xuC2zR4N-K4g"
    },
    {
      "cell_type": "code",
      "metadata": {
        "colab": {
          "base_uri": "https://localhost:8080/"
        },
        "id": "bqz1WLm0-K4h",
        "outputId": "9ef8398a-9a48-4500-c266-6ea07fdae84f"
      },
      "source": [
        "# Data prep: impute missing values\n",
        "feature_cols = [c for c in df.columns if c != \"converted\"]\n",
        "num_cols = [c for c in feature_cols if pd.api.types.is_numeric_dtype(df[c])]\n",
        "cat_cols = [c for c in feature_cols if not pd.api.types.is_numeric_dtype(df[c])]\n",
        "\n",
        "missing_summary = {c: int(df[c].isna().sum()) for c in feature_cols}\n",
        "print(\"Missing values per feature (before imputation):\")\n",
        "print(missing_summary)\n",
        "\n",
        "for c in cat_cols:\n",
        "    df[c] = df[c].fillna(\"NA\")\n",
        "for c in num_cols:\n",
        "    df[c] = df[c].fillna(0.0)\n",
        "\n",
        "print(\"Numeric features:\", num_cols)\n",
        "print(\"Categorical features:\", cat_cols)"
      ],
      "outputs": [
        {
          "output_type": "stream",
          "name": "stdout",
          "text": [
            "Missing values per feature (before imputation):\n",
            "{'lead_source': 128, 'industry': 134, 'number_of_courses_viewed': 0, 'annual_income': 181, 'employment_status': 100, 'location': 63, 'interaction_count': 0, 'lead_score': 0}\n",
            "Numeric features: ['number_of_courses_viewed', 'annual_income', 'interaction_count', 'lead_score']\n",
            "Categorical features: ['lead_source', 'industry', 'employment_status', 'location']\n"
          ]
        }
      ],
      "execution_count": 30,
      "id": "bqz1WLm0-K4h"
    },
    {
      "cell_type": "code",
      "metadata": {
        "colab": {
          "base_uri": "https://localhost:8080/"
        },
        "id": "RVfSXam5-K4h",
        "outputId": "09bc30c2-47b5-4ac7-9f36-859d552b269a"
      },
      "source": [
        "# Split: 60/20/20 using random_state=1\n",
        "df_full_train, df_test = train_test_split(df, test_size=0.2, random_state=1, stratify=df[\"converted\"])\n",
        "df_train, df_val = train_test_split(df_full_train, test_size=0.25, random_state=1, stratify=df_full_train[\"converted\"])\n",
        "\n",
        "y_train = df_train[\"converted\"].values\n",
        "y_val = df_val[\"converted\"].values\n",
        "y_test = df_test[\"converted\"].values\n",
        "\n",
        "print(\"Split sizes: train=%d, val=%d, test=%d\" % (len(df_train), len(df_val), len(df_test)))"
      ],
      "outputs": [
        {
          "output_type": "stream",
          "name": "stdout",
          "text": [
            "Split sizes: train=876, val=293, test=293\n"
          ]
        }
      ],
      "execution_count": 31,
      "id": "RVfSXam5-K4h"
    },
    {
      "cell_type": "code",
      "metadata": {
        "colab": {
          "base_uri": "https://localhost:8080/"
        },
        "id": "dOXph5ga-K4h",
        "outputId": "6ea22987-7656-41d2-8959-9dfc92706cd0"
      },
      "source": [
        "# ROC AUC \"feature importance\" on numeric columns (train set)\n",
        "auc_by_num = {}\n",
        "for c in num_cols:\n",
        "    s = df_train[c].astype(float).values\n",
        "    try:\n",
        "        auc = roc_auc_score(y_train, s)\n",
        "        if auc < 0.5:\n",
        "            s = -s\n",
        "            auc = roc_auc_score(y_train, s)\n",
        "    except Exception:\n",
        "        auc = np.nan\n",
        "    auc_by_num[c] = auc\n",
        "\n",
        "best_num_var = max(auc_by_num, key=lambda k: (auc_by_num[k] if auc_by_num[k] is not None else -np.inf)) if auc_by_num else None\n",
        "best_num_auc = auc_by_num.get(best_num_var, None)\n",
        "\n",
        "print(\"Numeric AUCs (train):\")\n",
        "for k,v in auc_by_num.items():\n",
        "    print(f\"  {k}: {None if v is None else round(v,3)}\")\n",
        "\n",
        "print(\"\\nBest numeric by AUC:\", best_num_var, \"AUC=\", None if best_num_auc is None else round(best_num_auc,3))"
      ],
      "outputs": [
        {
          "output_type": "stream",
          "name": "stdout",
          "text": [
            "Numeric AUCs (train):\n",
            "  number_of_courses_viewed: 0.752\n",
            "  annual_income: 0.567\n",
            "  interaction_count: 0.706\n",
            "  lead_score: 0.618\n",
            "\n",
            "Best numeric by AUC: number_of_courses_viewed AUC= 0.752\n"
          ]
        }
      ],
      "execution_count": 32,
      "id": "dOXph5ga-K4h"
    },
    {
      "cell_type": "code",
      "metadata": {
        "colab": {
          "base_uri": "https://localhost:8080/"
        },
        "id": "nYUxoeRC-K4h",
        "outputId": "109a6a67-fcf8-4032-f881-a299f15d5f0d"
      },
      "source": [
        "# One-Hot + Logistic Regression (liblinear, C=1.0, max_iter=1000); AUC on validation\n",
        "dv = DictVectorizer(sparse=True)\n",
        "X_train = dv.fit_transform(df_train[feature_cols].to_dict(orient=\"records\"))\n",
        "X_val = dv.transform(df_val[feature_cols].to_dict(orient=\"records\"))\n",
        "\n",
        "model = LogisticRegression(solver=\"liblinear\", C=1.0, max_iter=1000)\n",
        "model.fit(X_train, y_train)\n",
        "y_val_pred = model.predict_proba(X_val)[:, 1]\n",
        "\n",
        "val_auc = roc_auc_score(y_val, y_val_pred)\n",
        "print(\"Validation AUC (C=1.0):\", round(val_auc, 3))"
      ],
      "outputs": [
        {
          "output_type": "stream",
          "name": "stdout",
          "text": [
            "Validation AUC (C=1.0): 0.9\n"
          ]
        }
      ],
      "execution_count": 33,
      "id": "nYUxoeRC-K4h"
    },
    {
      "cell_type": "code",
      "metadata": {
        "colab": {
          "base_uri": "https://localhost:8080/",
          "height": 505
        },
        "id": "gGEf3EVR-K4h",
        "outputId": "93746fb6-34d7-4c5b-dd03-8b173b4b8193"
      },
      "source": [
        "# Precision & Recall vs threshold; intersection\n",
        "thresholds = np.arange(0.0, 1.0, 0.01)\n",
        "precisions = []\n",
        "recalls = []\n",
        "for t in thresholds:\n",
        "    preds = (y_val_pred >= t).astype(int)\n",
        "    precisions.append(precision_score(y_val, preds, zero_division=0))\n",
        "    recalls.append(recall_score(y_val, preds, zero_division=0))\n",
        "\n",
        "precisions = np.array(precisions)\n",
        "recalls = np.array(recalls)\n",
        "idx_intersect = int(np.argmin(np.abs(precisions - recalls)))\n",
        "thr_intersect = float(thresholds[idx_intersect])\n",
        "prec_i = float(precisions[idx_intersect])\n",
        "rec_i = float(recalls[idx_intersect])\n",
        "\n",
        "print(f\"Precision/Recall intersection — threshold ≈ {thr_intersect:.2f}, precision={prec_i:.3f}, recall={rec_i:.3f}\")\n",
        "\n",
        "# Plot\n",
        "plt.figure(figsize=(7,5))\n",
        "plt.plot(thresholds, precisions, label=\"Precision\")\n",
        "plt.plot(thresholds, recalls, label=\"Recall\")\n",
        "plt.xlabel(\"Threshold\")\n",
        "plt.ylabel(\"Score\")\n",
        "plt.title(\"Precision & Recall vs Threshold (Validation)\")\n",
        "plt.legend()\n",
        "plt.show()\n",
        "\n",
        "# Save\n",
        "plt.figure(figsize=(7,5))\n",
        "plt.plot(thresholds, precisions, label=\"Precision\")\n",
        "plt.plot(thresholds, recalls, label=\"Recall\")\n",
        "plt.xlabel(\"Threshold\")\n",
        "plt.ylabel(\"Score\")\n",
        "plt.title(\"Precision & Recall vs Threshold (Validation)\")\n",
        "plt.legend()\n",
        "plt.close()"
      ],
      "outputs": [
        {
          "output_type": "stream",
          "name": "stdout",
          "text": [
            "Precision/Recall intersection — threshold ≈ 0.81, precision=0.000, recall=0.000\n"
          ]
        },
        {
          "output_type": "display_data",
          "data": {
            "text/plain": [
              "<Figure size 700x500 with 1 Axes>"
            ],
            "image/png": "[encoded data removed]"
          },
          "metadata": {}
        }
      ],
      "execution_count": 34,
      "id": "gGEf3EVR-K4h"
    },
    {
      "cell_type": "code",
      "metadata": {
        "colab": {
          "base_uri": "https://localhost:8080/",
          "height": 505
        },
        "id": "ydECffyj-K4i",
        "outputId": "04e0b60e-2d43-475b-be9f-e214b9c8314d"
      },
      "source": [
        "# F1 vs threshold; best threshold\n",
        "f1s = []\n",
        "for t in thresholds:\n",
        "    preds = (y_val_pred >= t).astype(int)\n",
        "    f1s.append(f1_score(y_val, preds, zero_division=0))\n",
        "f1s = np.array(f1s)\n",
        "idx_f1_max = int(np.argmax(f1s))\n",
        "thr_f1_max = float(thresholds[idx_f1_max])\n",
        "f1_max = float(f1s[idx_f1_max])\n",
        "\n",
        "print(f\"Max F1={f1_max:.3f} at threshold={thr_f1_max:.2f}\")\n",
        "\n",
        "# Plot\n",
        "plt.figure(figsize=(7,5))\n",
        "plt.plot(thresholds, f1s, label=\"F1\")\n",
        "plt.xlabel(\"Threshold\")\n",
        "plt.ylabel(\"F1 Score\")\n",
        "plt.title(\"F1 vs Threshold (Validation)\")\n",
        "plt.legend()\n",
        "plt.show()\n",
        "\n",
        "# Save\n",
        "plt.figure(figsize=(7,5))\n",
        "plt.plot(thresholds, f1s, label=\"F1\")\n",
        "plt.xlabel(\"Threshold\")\n",
        "plt.ylabel(\"F1 Score\")\n",
        "plt.title(\"F1 vs Threshold (Validation)\")\n",
        "plt.legend()\n",
        "plt.close()"
      ],
      "outputs": [
        {
          "output_type": "stream",
          "name": "stdout",
          "text": [
            "Max F1=0.863 at threshold=0.60\n"
          ]
        },
        {
          "output_type": "display_data",
          "data": {
            "text/plain": [
              "<Figure size 700x500 with 1 Axes>"
            ],
            "image/png": "[encoded data removed]"
          },
          "metadata": {}
        }
      ],
      "execution_count": 35,
      "id": "ydECffyj-K4i"
    },
    {
      "cell_type": "code",
      "metadata": {
        "colab": {
          "base_uri": "https://localhost:8080/"
        },
        "id": "De5lBHXS-K4i",
        "outputId": "9b9ae159-9c7c-4169-8f26-235d7040a975"
      },
      "source": [
        "# 5-Fold CV on df_full_train; C=1.0\n",
        "def eval_fold_auc(df_tr, df_va, feature_cols):\n",
        "    y_tr = df_tr[\"converted\"].values\n",
        "    y_va = df_va[\"converted\"].values\n",
        "    dv_local = DictVectorizer(sparse=True)\n",
        "    X_tr = dv_local.fit_transform(df_tr[feature_cols].to_dict(orient=\"records\"))\n",
        "    X_va = dv_local.transform(df_va[feature_cols].to_dict(orient=\"records\"))\n",
        "    m = LogisticRegression(solver=\"liblinear\", C=1.0, max_iter=1000)\n",
        "    m.fit(X_tr, y_tr)\n",
        "    y_va_pred = m.predict_proba(X_va)[:, 1]\n",
        "    return roc_auc_score(y_va, y_va_pred)\n",
        "\n",
        "kf = KFold(n_splits=5, shuffle=True, random_state=1)\n",
        "cv_scores = []\n",
        "for tr_idx, va_idx in kf.split(df_full_train):\n",
        "    df_tr = df_full_train.iloc[tr_idx]\n",
        "    df_va = df_full_train.iloc[va_idx]\n",
        "    cv_scores.append(eval_fold_auc(df_tr, df_va, feature_cols))\n",
        "\n",
        "cv_scores = np.array(cv_scores, dtype=float)\n",
        "print(\"5-Fold CV AUCs (C=1.0):\", [round(s,3) for s in cv_scores.tolist()])\n",
        "print(\"Mean:\", round(cv_scores.mean(),3), \"Std:\", round(cv_scores.std(ddof=0),3))"
      ],
      "outputs": [
        {
          "output_type": "stream",
          "name": "stdout",
          "text": [
            "5-Fold CV AUCs (C=1.0): [0.801, 0.837, 0.862, 0.778, 0.806]\n",
            "Mean: 0.817 Std: 0.029\n"
          ]
        }
      ],
      "execution_count": 36,
      "id": "De5lBHXS-K4i"
    },
    {
      "cell_type": "code",
      "metadata": {
        "colab": {
          "base_uri": "https://localhost:8080/"
        },
        "id": "-uwbyK_P-K4j",
        "outputId": "e0b7d242-ba01-4125-a15e-3f65161bcc6f"
      },
      "source": [
        "# Hyperparameter tuning over C ∈ {1e-6, 1e-3, 1}\n",
        "Cs = [1e-6, 1e-3, 1.0]\n",
        "kf = KFold(n_splits=5, shuffle=True, random_state=1)\n",
        "\n",
        "def cv_mean_std_for_C(C):\n",
        "    scores = []\n",
        "    for tr_idx, va_idx in kf.split(df_full_train):\n",
        "        df_tr = df_full_train.iloc[tr_idx]\n",
        "        df_va = df_full_train.iloc[va_idx]\n",
        "        y_tr = df_tr[\"converted\"].values\n",
        "        y_va = df_va[\"converted\"].values\n",
        "        dv_local = DictVectorizer(sparse=True)\n",
        "        X_tr = dv_local.fit_transform(df_tr[feature_cols].to_dict(orient=\"records\"))\n",
        "        X_va = dv_local.transform(df_va[feature_cols].to_dict(orient=\"records\"))\n",
        "        m = LogisticRegression(solver=\"liblinear\", C=C, max_iter=1000)\n",
        "        m.fit(X_tr, y_tr)\n",
        "        y_va_pred = m.predict_proba(X_va)[:, 1]\n",
        "        scores.append(roc_auc_score(y_va, y_va_pred))\n",
        "    scores = np.array(scores, dtype=float)\n",
        "    return scores.mean(), scores.std(ddof=0)\n",
        "\n",
        "means = []\n",
        "stds = []\n",
        "for C in Cs:\n",
        "    mu, sd = cv_mean_std_for_C(C)\n",
        "    means.append(mu); stds.append(sd)\n",
        "\n",
        "rounded = {str(Cs[i]): {\"mean\": round(means[i],3), \"std\": round(stds[i],3)} for i in range(len(Cs))}\n",
        "best_idx = int(np.argmax(means))\n",
        "print(\"CV results by C:\", rounded)\n",
        "print(\"Best C by mean AUC:\", Cs[best_idx])"
      ],
      "outputs": [
        {
          "output_type": "stream",
          "name": "stdout",
          "text": [
            "CV results by C: {'1e-06': {'mean': np.float64(0.561), 'std': np.float64(0.035)}, '0.001': {'mean': np.float64(0.86), 'std': np.float64(0.026)}, '1.0': {'mean': np.float64(0.817), 'std': np.float64(0.029)}}\n",
            "Best C by mean AUC: 0.001\n"
          ]
        }
      ],
      "execution_count": 37,
      "id": "-uwbyK_P-K4j"
    }
  ],
  "metadata": {
    "kernelspec": {
      "display_name": "Python 3",
      "language": "python",
      "name": "python3"
    },
    "language_info": {
      "name": "python",
      "version": "3.x"
    },
    "colab": {
      "provenance": []
    }
  },
  "nbformat": 4,
  "nbformat_minor": 5
}